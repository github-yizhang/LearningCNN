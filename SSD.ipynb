{
 "cells": [
  {
   "cell_type": "code",
   "execution_count": 1,
   "source": [
    "import torch\r\n",
    "import torchvision\r\n",
    "from torch import nn\r\n",
    "from torch.nn import functional as F\r\n",
    "from d2l import torch as d2l\r\n",
    "\r\n",
    "def cls_predictor(num_inputs, num_anchors, num_classes):\r\n",
    "    return nn.Conv2d(num_inputs, num_anchors * (num_classes + 1),\r\n",
    "    kernel_size=3, padding=1)\r\n",
    "\r\n",
    "def bbox_predictor(num_inputs, num_anchors):\r\n",
    "    return nn.Conv2d(num_inputs, num_anchors * 4, kernel_size=3, padding=1)\r\n",
    "\r\n",
    "def forward(x, block):\r\n",
    "    return block(x)\r\n",
    "Y1 = forward(torch.zeros((2, 8, 20, 20)), cls_predictor(8, 5, 10))\r\n",
    "Y2 = forward(torch.zeros((2, 16, 10, 10)), cls_predictor(16, 3, 10))\r\n",
    "Y1.shape, Y2.shape"
   ],
   "outputs": [
    {
     "output_type": "execute_result",
     "data": {
      "text/plain": [
       "(torch.Size([2, 55, 20, 20]), torch.Size([2, 33, 10, 10]))"
      ]
     },
     "metadata": {},
     "execution_count": 1
    }
   ],
   "metadata": {}
  },
  {
   "cell_type": "code",
   "execution_count": 2,
   "source": [
    "def flatten_pred(pred):\r\n",
    "    return torch.flatten(pred.permute(0, 2, 3, 1), start_dim=1)\r\n",
    "\r\n",
    "def concat_preds(preds):\r\n",
    "    return torch.cat([flatten_pred(p) for p in preds], dim=1)\r\n",
    "\r\n",
    "concat_preds([Y1, Y2]).shape"
   ],
   "outputs": [
    {
     "output_type": "execute_result",
     "data": {
      "text/plain": [
       "torch.Size([2, 25300])"
      ]
     },
     "metadata": {},
     "execution_count": 2
    }
   ],
   "metadata": {}
  },
  {
   "cell_type": "code",
   "execution_count": 4,
   "source": [
    "def down_sample_blk(in_channels, out_channels):\r\n",
    "    blk = []\r\n",
    "    for _ in range(2):\r\n",
    "        blk.append(\r\n",
    "        nn.Conv2d(in_channels, out_channels, kernel_size=3, padding=1))\r\n",
    "        blk.append(nn.BatchNorm2d(out_channels))\r\n",
    "        blk.append(nn.ReLU())\r\n",
    "        in_channels = out_channels\r\n",
    "    blk.append(nn.MaxPool2d(2))\r\n",
    "    return nn.Sequential(*blk)\r\n",
    "\r\n",
    "forward(torch.zeros((2, 3, 20, 20)), down_sample_blk(3, 10)).shape"
   ],
   "outputs": [
    {
     "output_type": "execute_result",
     "data": {
      "text/plain": [
       "torch.Size([2, 10, 10, 10])"
      ]
     },
     "metadata": {},
     "execution_count": 4
    }
   ],
   "metadata": {}
  },
  {
   "cell_type": "code",
   "execution_count": 5,
   "source": [
    "def base_net():\r\n",
    "    blk = []\r\n",
    "    num_filters = [3, 16, 32, 64]\r\n",
    "    for i in range(len(num_filters) - 1):\r\n",
    "        blk.append(down_sample_blk(num_filters[i], num_filters[i + 1]))\r\n",
    "    return nn.Sequential(*blk)\r\n",
    "\r\n",
    "forward(torch.zeros((2, 3, 256, 256)), base_net()).shape"
   ],
   "outputs": [
    {
     "output_type": "execute_result",
     "data": {
      "text/plain": [
       "torch.Size([2, 64, 32, 32])"
      ]
     },
     "metadata": {},
     "execution_count": 5
    }
   ],
   "metadata": {}
  },
  {
   "cell_type": "code",
   "execution_count": 6,
   "source": [
    "def get_blk(i):\r\n",
    "    if i == 0:\r\n",
    "        blk = base_net()\r\n",
    "    elif i == 1:\r\n",
    "        blk = down_sample_blk(64, 128)\r\n",
    "    elif i == 4:\r\n",
    "        blk = nn.AdaptiveMaxPool2d((1, 1))\r\n",
    "    else:\r\n",
    "        blk = down_sample_blk(128, 128)\r\n",
    "    return blk\r\n",
    "\r\n",
    "def blk_forward(X, blk, size, ratio, cls_predictor, bbox_predictor):\r\n",
    "    Y = blk(X)\r\n",
    "    anchors = d2l.multibox_prior(Y, sizes=size, ratios=ratio)\r\n",
    "    cls_preds = cls_predictor(Y)\r\n",
    "    bbox_preds = bbox_predictor(Y)\r\n",
    "    return (Y, anchors, cls_preds, bbox_preds)"
   ],
   "outputs": [],
   "metadata": {}
  },
  {
   "cell_type": "code",
   "execution_count": 7,
   "source": [
    "sizes = [[0.2, 0.272], [0.37, 0.447], [0.54, 0.619], [0.71, 0.79],\r\n",
    "        [0.88, 0.961]]\r\n",
    "ratios = [[1, 2, 0.5]] * 5\r\n",
    "num_anchors = len(sizes[0]) + len(ratios[0]) - 1"
   ],
   "outputs": [],
   "metadata": {}
  },
  {
   "cell_type": "code",
   "execution_count": 8,
   "source": [
    "class TinySSD(nn.Module):\r\n",
    "    def __init__(self, num_classes, **kwargs):\r\n",
    "        super(TinySSD, self).__init__(**kwargs)\r\n",
    "        self.num_classes = num_classes\r\n",
    "        idx_to_in_channels = [64, 128, 128, 128, 128]\r\n",
    "        for i in range(5):\r\n",
    "            # 即赋值语句 `self.blk_i = get_blk(i)`\r\n",
    "            setattr(self, f'blk_{i}', get_blk(i))\r\n",
    "            setattr(\r\n",
    "            self, f'cls_{i}',\r\n",
    "            cls_predictor(idx_to_in_channels[i], num_anchors,\r\n",
    "            num_classes))\r\n",
    "            setattr(self, f'bbox_{i}',\r\n",
    "            bbox_predictor(idx_to_in_channels[i], num_anchors))\r\n",
    "    def forward(self, X):\r\n",
    "        anchors, cls_preds, bbox_preds = [None] * 5, [None] * 5, [None] * 5\r\n",
    "        for i in range(5):\r\n",
    "            # `getattr(self, 'blk_%d' % i)` 即访问 `self.blk_i`\r\n",
    "            X, anchors[i], cls_preds[i], bbox_preds[i] = blk_forward(\r\n",
    "            X, getattr(self, f'blk_{i}'), sizes[i], ratios[i],\r\n",
    "            getattr(self, f'cls_{i}'), getattr(self, f'bbox_{i}'))\r\n",
    "        anchors = torch.cat(anchors, dim=1)\r\n",
    "        cls_preds = concat_preds(cls_preds)\r\n",
    "        cls_preds = cls_preds.reshape(cls_preds.shape[0], -1,\r\n",
    "        self.num_classes + 1)\r\n",
    "        bbox_preds = concat_preds(bbox_preds)\r\n",
    "        return anchors, cls_preds, bbox_preds"
   ],
   "outputs": [],
   "metadata": {}
  },
  {
   "cell_type": "code",
   "execution_count": 9,
   "source": [
    "net = TinySSD(num_classes=1)\r\n",
    "X = torch.zeros((32, 3, 256, 256))\r\n",
    "anchors, cls_preds, bbox_preds = net(X)\r\n",
    "print('output anchors:', anchors.shape)\r\n",
    "print('output class preds:', cls_preds.shape)\r\n",
    "print('output bbox preds:', bbox_preds.shape)"
   ],
   "outputs": [
    {
     "output_type": "stream",
     "name": "stdout",
     "text": [
      "output anchors: torch.Size([1, 5444, 4])\n",
      "output class preds: torch.Size([32, 5444, 2])\n",
      "output bbox preds: torch.Size([32, 21776])\n"
     ]
    }
   ],
   "metadata": {}
  },
  {
   "cell_type": "code",
   "execution_count": 10,
   "source": [
    "batch_size = 32\r\n",
    "train_iter, _ = d2l.load_data_bananas(batch_size)"
   ],
   "outputs": [
    {
     "output_type": "stream",
     "name": "stdout",
     "text": [
      "read 1000 training examples\n",
      "read 100 validation examples\n"
     ]
    }
   ],
   "metadata": {}
  },
  {
   "cell_type": "code",
   "execution_count": 11,
   "source": [
    "device, net = d2l.try_gpu(), TinySSD(num_classes=1)\r\n",
    "trainer = torch.optim.SGD(net.parameters(), lr=0.2, weight_decay=5e-4)"
   ],
   "outputs": [],
   "metadata": {}
  },
  {
   "cell_type": "code",
   "execution_count": 12,
   "source": [
    "cls_loss = nn.CrossEntropyLoss(reduction='none')\r\n",
    "bbox_loss = nn.L1Loss(reduction='none')\r\n",
    "\r\n",
    "def calc_loss(cls_preds, cls_labels, bbox_preds, bbox_labels, bbox_masks):\r\n",
    "    batch_size, num_classes = cls_preds.shape[0], cls_preds.shape[2]\r\n",
    "    cls = cls_loss(cls_preds.reshape(-1, num_classes),\r\n",
    "    cls_labels.reshape(-1)).reshape(batch_size, -1).mean(dim=1)\r\n",
    "    bbox = bbox_loss(bbox_preds * bbox_masks,\r\n",
    "    bbox_labels * bbox_masks).mean(dim=1)\r\n",
    "    return cls + bbox\r\n",
    "\r\n",
    "def cls_eval(cls_preds, cls_labels):\r\n",
    "    # 由于类别预测结果放在最后⼀维， `argmax` 需要指定最后⼀维。\r\n",
    "    return float((cls_preds.argmax(dim=-1).type(cls_labels.dtype) == cls_labels).sum())\r\n",
    "\r\n",
    "def bbox_eval(bbox_preds, bbox_labels, bbox_masks):\r\n",
    "    return float((torch.abs((bbox_labels - bbox_preds) * bbox_masks)).sum())"
   ],
   "outputs": [],
   "metadata": {}
  },
  {
   "cell_type": "code",
   "execution_count": null,
   "source": [
    "num_epochs, timer = 20, d2l.Timer()\r\n",
    "animator = d2l.Animator(xlabel='epoch', xlim=[1, num_epochs],\r\n",
    "legend=['class error', 'bbox mae'])\r\n",
    "net = net.to(device)\r\n",
    "for epoch in range(num_epochs):\r\n",
    "    # 训练精确度的和，训练精确度的和中的⽰例数\r\n",
    "    # 绝对误差的和，绝对误差的和中的⽰例数\r\n",
    "    metric = d2l.Accumulator(4)\r\n",
    "    net.train()\r\n",
    "    for features, target in train_iter:\r\n",
    "        timer.start()\r\n",
    "        trainer.zero_grad()\r\n",
    "        X, Y = features.to(device), target.to(device)\r\n",
    "        # ⽣成多尺度的锚框，为每个锚框预测类别和偏移量\r\n",
    "        anchors, cls_preds, bbox_preds = net(X)\r\n",
    "        # 为每个锚框标注类别和偏移量\r\n",
    "        bbox_labels, bbox_masks, cls_labels = d2l.multibox_target(anchors, Y)\r\n",
    "        # 根据类别和偏移量的预测和标注值计算损失函数\r\n",
    "        l = calc_loss(cls_preds, cls_labels, bbox_preds, bbox_labels,\r\n",
    "        bbox_masks)\r\n",
    "        l.mean().backward()\r\n",
    "        trainer.step()\r\n",
    "        metric.add(cls_eval(cls_preds, cls_labels), cls_labels.numel(),\r\n",
    "        bbox_eval(bbox_preds, bbox_labels, bbox_masks),\r\n",
    "        bbox_labels.numel())\r\n",
    "    cls_err, bbox_mae = 1 - metric[0] / metric[1], metric[2] / metric[3]\r\n",
    "    animator.add(epoch + 1, (cls_err, bbox_mae))\r\n",
    "print(f'class err {cls_err:.2e}, bbox mae {bbox_mae:.2e}')\r\n",
    "print(f'{len(train_iter.dataset) / timer.stop():.1f} examples/sec on '\r\n",
    "f'{str(device)}')"
   ],
   "outputs": [],
   "metadata": {}
  }
 ],
 "metadata": {
  "orig_nbformat": 4,
  "language_info": {
   "name": "python",
   "version": "3.7.10",
   "mimetype": "text/x-python",
   "codemirror_mode": {
    "name": "ipython",
    "version": 3
   },
   "pygments_lexer": "ipython3",
   "nbconvert_exporter": "python",
   "file_extension": ".py"
  },
  "kernelspec": {
   "name": "python3",
   "display_name": "Python 3.7.10 64-bit ('pytorch': conda)"
  },
  "interpreter": {
   "hash": "be203ce0b3afc4f5c37fbac412025d7ed1d67cabe9dd00b1fc8774c6d6d19d70"
  }
 },
 "nbformat": 4,
 "nbformat_minor": 2
}